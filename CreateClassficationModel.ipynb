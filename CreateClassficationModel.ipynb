{
 "cells": [
  {
   "cell_type": "code",
   "execution_count": 1,
   "metadata": {
    "collapsed": true
   },
   "outputs": [],
   "source": [
    "import numpy as np\n",
    "import pandas as pd\n",
    "import matplotlib.pyplot as plt\n",
    "import seaborn as sns\n",
    "import pandas_profiling as pp\n",
    "from scipy.stats import chi2_contingency, f_oneway\n",
    "import time\n",
    "\n",
    "#For feature engineering\n",
    "from sklearn.base import TransformerMixin\n",
    "from sklearn.preprocessing import StandardScaler, RobustScaler, MinMaxScaler, OneHotEncoder\n",
    "from sklearn.pipeline import Pipeline\n",
    "from sklearn.compose import ColumnTransformer\n",
    "\n",
    "#Model\n",
    "from sklearn.svm import SVC\n",
    "from sklearn.neighbors import KNeighborsClassifier\n",
    "from sklearn.linear_model import LogisticRegression\n",
    "from sklearn.ensemble import RandomForestClassifier\n",
    "from sklearn.tree import DecisionTreeClassifier\n",
    "from sklearn.naive_bayes import MultinomialNB, GaussianNB\n",
    "\n",
    "#Evalution Model\n",
    "from sklearn.model_selection import cross_validate, GridSearchCV\n",
    "from sklearn.model_selection import train_test_split, ShuffleSplit\n",
    "from sklearn.metrics import classification_report, confusion_matrix"
   ]
  },
  {
   "cell_type": "code",
   "execution_count": 2,
   "outputs": [
    {
     "data": {
      "text/plain": "   customer  recency  frequency  monetary         country  R  F  M  group  \\\n0     12940       54          2    899.69  United Kingdom  2  2  3    223   \n1     13285       22          4   2709.12  United Kingdom  3  3  4    334   \n2     13623       30          5    727.74  United Kingdom  3  3  3    333   \n3     13832       18          1     52.20  United Kingdom  3  1  1    311   \n4     14450      180          3    483.25  United Kingdom  1  3  2    132   \n\n   cluster       labels  \n0        4  LIKELY GONE  \n1        1  PROSPECTIVE  \n2        4  LIKELY GONE  \n3        0          NEW  \n4        4  LIKELY GONE  ",
      "text/html": "<div>\n<style scoped>\n    .dataframe tbody tr th:only-of-type {\n        vertical-align: middle;\n    }\n\n    .dataframe tbody tr th {\n        vertical-align: top;\n    }\n\n    .dataframe thead th {\n        text-align: right;\n    }\n</style>\n<table border=\"1\" class=\"dataframe\">\n  <thead>\n    <tr style=\"text-align: right;\">\n      <th></th>\n      <th>customer</th>\n      <th>recency</th>\n      <th>frequency</th>\n      <th>monetary</th>\n      <th>country</th>\n      <th>R</th>\n      <th>F</th>\n      <th>M</th>\n      <th>group</th>\n      <th>cluster</th>\n      <th>labels</th>\n    </tr>\n  </thead>\n  <tbody>\n    <tr>\n      <th>0</th>\n      <td>12940</td>\n      <td>54</td>\n      <td>2</td>\n      <td>899.69</td>\n      <td>United Kingdom</td>\n      <td>2</td>\n      <td>2</td>\n      <td>3</td>\n      <td>223</td>\n      <td>4</td>\n      <td>LIKELY GONE</td>\n    </tr>\n    <tr>\n      <th>1</th>\n      <td>13285</td>\n      <td>22</td>\n      <td>4</td>\n      <td>2709.12</td>\n      <td>United Kingdom</td>\n      <td>3</td>\n      <td>3</td>\n      <td>4</td>\n      <td>334</td>\n      <td>1</td>\n      <td>PROSPECTIVE</td>\n    </tr>\n    <tr>\n      <th>2</th>\n      <td>13623</td>\n      <td>30</td>\n      <td>5</td>\n      <td>727.74</td>\n      <td>United Kingdom</td>\n      <td>3</td>\n      <td>3</td>\n      <td>3</td>\n      <td>333</td>\n      <td>4</td>\n      <td>LIKELY GONE</td>\n    </tr>\n    <tr>\n      <th>3</th>\n      <td>13832</td>\n      <td>18</td>\n      <td>1</td>\n      <td>52.20</td>\n      <td>United Kingdom</td>\n      <td>3</td>\n      <td>1</td>\n      <td>1</td>\n      <td>311</td>\n      <td>0</td>\n      <td>NEW</td>\n    </tr>\n    <tr>\n      <th>4</th>\n      <td>14450</td>\n      <td>180</td>\n      <td>3</td>\n      <td>483.25</td>\n      <td>United Kingdom</td>\n      <td>1</td>\n      <td>3</td>\n      <td>2</td>\n      <td>132</td>\n      <td>4</td>\n      <td>LIKELY GONE</td>\n    </tr>\n  </tbody>\n</table>\n</div>"
     },
     "execution_count": 2,
     "metadata": {},
     "output_type": "execute_result"
    }
   ],
   "source": [
    "#Load data\n",
    "df = pd.read_csv('data/CustomerLabels.csv')\n",
    "df.head()"
   ],
   "metadata": {
    "collapsed": false,
    "pycharm": {
     "name": "#%%\n"
    }
   }
  },
  {
   "cell_type": "code",
   "execution_count": 3,
   "outputs": [
    {
     "data": {
      "text/plain": "           recency    frequency       monetary      cluster\ncount  4338.000000  4338.000000    4338.000000  4338.000000\nmean     91.536422     4.272015    2048.688084     1.991010\nstd     100.014169     7.697998    8985.230341     1.411656\nmin       0.000000     1.000000       3.750000     0.000000\n25%      17.000000     1.000000     306.482500     1.000000\n50%      50.000000     2.000000     668.570000     2.000000\n75%     141.000000     5.000000    1660.597500     3.000000\nmax     373.000000   209.000000  280206.030000     4.000000",
      "text/html": "<div>\n<style scoped>\n    .dataframe tbody tr th:only-of-type {\n        vertical-align: middle;\n    }\n\n    .dataframe tbody tr th {\n        vertical-align: top;\n    }\n\n    .dataframe thead th {\n        text-align: right;\n    }\n</style>\n<table border=\"1\" class=\"dataframe\">\n  <thead>\n    <tr style=\"text-align: right;\">\n      <th></th>\n      <th>recency</th>\n      <th>frequency</th>\n      <th>monetary</th>\n      <th>cluster</th>\n    </tr>\n  </thead>\n  <tbody>\n    <tr>\n      <th>count</th>\n      <td>4338.000000</td>\n      <td>4338.000000</td>\n      <td>4338.000000</td>\n      <td>4338.000000</td>\n    </tr>\n    <tr>\n      <th>mean</th>\n      <td>91.536422</td>\n      <td>4.272015</td>\n      <td>2048.688084</td>\n      <td>1.991010</td>\n    </tr>\n    <tr>\n      <th>std</th>\n      <td>100.014169</td>\n      <td>7.697998</td>\n      <td>8985.230341</td>\n      <td>1.411656</td>\n    </tr>\n    <tr>\n      <th>min</th>\n      <td>0.000000</td>\n      <td>1.000000</td>\n      <td>3.750000</td>\n      <td>0.000000</td>\n    </tr>\n    <tr>\n      <th>25%</th>\n      <td>17.000000</td>\n      <td>1.000000</td>\n      <td>306.482500</td>\n      <td>1.000000</td>\n    </tr>\n    <tr>\n      <th>50%</th>\n      <td>50.000000</td>\n      <td>2.000000</td>\n      <td>668.570000</td>\n      <td>2.000000</td>\n    </tr>\n    <tr>\n      <th>75%</th>\n      <td>141.000000</td>\n      <td>5.000000</td>\n      <td>1660.597500</td>\n      <td>3.000000</td>\n    </tr>\n    <tr>\n      <th>max</th>\n      <td>373.000000</td>\n      <td>209.000000</td>\n      <td>280206.030000</td>\n      <td>4.000000</td>\n    </tr>\n  </tbody>\n</table>\n</div>"
     },
     "execution_count": 3,
     "metadata": {},
     "output_type": "execute_result"
    }
   ],
   "source": [
    "#Drop unwanted columns\n",
    "df = df[['recency', 'frequency', 'monetary', 'cluster']]\n",
    "df.describe()"
   ],
   "metadata": {
    "collapsed": false,
    "pycharm": {
     "name": "#%%\n"
    }
   }
  },
  {
   "cell_type": "code",
   "execution_count": 4,
   "outputs": [
    {
     "name": "stdout",
     "output_type": "stream",
     "text": [
      "<class 'pandas.core.frame.DataFrame'>\n",
      "RangeIndex: 4338 entries, 0 to 4337\n",
      "Data columns (total 4 columns):\n",
      " #   Column     Non-Null Count  Dtype  \n",
      "---  ------     --------------  -----  \n",
      " 0   recency    4338 non-null   int64  \n",
      " 1   frequency  4338 non-null   int64  \n",
      " 2   monetary   4338 non-null   float64\n",
      " 3   cluster    4338 non-null   int64  \n",
      "dtypes: float64(1), int64(3)\n",
      "memory usage: 135.7 KB\n"
     ]
    }
   ],
   "source": [
    "df.info()"
   ],
   "metadata": {
    "collapsed": false,
    "pycharm": {
     "name": "#%%\n"
    }
   }
  },
  {
   "cell_type": "code",
   "execution_count": 5,
   "outputs": [
    {
     "data": {
      "text/plain": "<Figure size 720x720 with 20 Axes>",
      "image/png": "[encoded data removed]"
     },
     "metadata": {},
     "output_type": "display_data"
    }
   ],
   "source": [
    "sns.pairplot(df);"
   ],
   "metadata": {
    "collapsed": false,
    "pycharm": {
     "name": "#%%\n"
    }
   }
  },
  {
   "cell_type": "code",
   "execution_count": 6,
   "outputs": [
    {
     "data": {
      "text/plain": "           recency    frequency       monetary      cluster\ncount  4338.000000  4338.000000    4338.000000  4338.000000\nmean     91.536422     4.272015    2048.688084     1.991010\nstd     100.014169     7.697998    8985.230341     1.411656\nmin       0.000000     1.000000       3.750000     0.000000\n25%      17.000000     1.000000     306.482500     1.000000\n50%      50.000000     2.000000     668.570000     2.000000\n75%     141.000000     5.000000    1660.597500     3.000000\nmax     373.000000   209.000000  280206.030000     4.000000",
      "text/html": "<div>\n<style scoped>\n    .dataframe tbody tr th:only-of-type {\n        vertical-align: middle;\n    }\n\n    .dataframe tbody tr th {\n        vertical-align: top;\n    }\n\n    .dataframe thead th {\n        text-align: right;\n    }\n</style>\n<table border=\"1\" class=\"dataframe\">\n  <thead>\n    <tr style=\"text-align: right;\">\n      <th></th>\n      <th>recency</th>\n      <th>frequency</th>\n      <th>monetary</th>\n      <th>cluster</th>\n    </tr>\n  </thead>\n  <tbody>\n    <tr>\n      <th>count</th>\n      <td>4338.000000</td>\n      <td>4338.000000</td>\n      <td>4338.000000</td>\n      <td>4338.000000</td>\n    </tr>\n    <tr>\n      <th>mean</th>\n      <td>91.536422</td>\n      <td>4.272015</td>\n      <td>2048.688084</td>\n      <td>1.991010</td>\n    </tr>\n    <tr>\n      <th>std</th>\n      <td>100.014169</td>\n      <td>7.697998</td>\n      <td>8985.230341</td>\n      <td>1.411656</td>\n    </tr>\n    <tr>\n      <th>min</th>\n      <td>0.000000</td>\n      <td>1.000000</td>\n      <td>3.750000</td>\n      <td>0.000000</td>\n    </tr>\n    <tr>\n      <th>25%</th>\n      <td>17.000000</td>\n      <td>1.000000</td>\n      <td>306.482500</td>\n      <td>1.000000</td>\n    </tr>\n    <tr>\n      <th>50%</th>\n      <td>50.000000</td>\n      <td>2.000000</td>\n      <td>668.570000</td>\n      <td>2.000000</td>\n    </tr>\n    <tr>\n      <th>75%</th>\n      <td>141.000000</td>\n      <td>5.000000</td>\n      <td>1660.597500</td>\n      <td>3.000000</td>\n    </tr>\n    <tr>\n      <th>max</th>\n      <td>373.000000</td>\n      <td>209.000000</td>\n      <td>280206.030000</td>\n      <td>4.000000</td>\n    </tr>\n  </tbody>\n</table>\n</div>"
     },
     "execution_count": 6,
     "metadata": {},
     "output_type": "execute_result"
    }
   ],
   "source": [
    "#Scale data\n",
    "data = df.copy()\n",
    "scaler = RobustScaler()\n",
    "data[['recency', 'frequency', 'monetary']] = scaler.fit_transform(data[['recency', 'frequency', 'monetary']])\n",
    "df.describe()"
   ],
   "metadata": {
    "collapsed": false,
    "pycharm": {
     "name": "#%%\n"
    }
   }
  },
  {
   "cell_type": "markdown",
   "source": [
    "## Time to build model"
   ],
   "metadata": {
    "collapsed": false,
    "pycharm": {
     "name": "#%% md\n"
    }
   }
  },
  {
   "cell_type": "code",
   "execution_count": 7,
   "outputs": [],
   "source": [
    "#Split X, y\n",
    "X = data.copy()\n",
    "y = X.pop('cluster')\n",
    "#Split train and test\n",
    "X_train, X_test, y_train, y_test = train_test_split(X,y, test_size = 0.2, random_state=0)\n",
    "#CV split\n",
    "# run model 10x with 70/20 split intentionally leaving out 10%\n",
    "cv_split = ShuffleSplit(n_splits = 5, test_size = .2,\n",
    "                        train_size = .7, random_state = 0)"
   ],
   "metadata": {
    "collapsed": false,
    "pycharm": {
     "name": "#%%\n"
    }
   }
  },
  {
   "cell_type": "code",
   "execution_count": 8,
   "outputs": [],
   "source": [
    "param_grids = [\n",
    "    #Random Forest\n",
    "    {'n_estimators': [50, 100, 150, 250],\n",
    "     'criterion': ['gini', 'entropy']},\n",
    "\n",
    "    #KNN\n",
    "    {'n_neighbors': list(range(2,20))},\n",
    "\n",
    "    #LogisticRegression\n",
    "    {'solver': ['newton-cg', 'lbfgs', 'liblinear', 'sag', 'saga']},\n",
    "\n",
    "    #GausianNB\n",
    "    {},\n",
    "\n",
    "    #SVC\n",
    "    {'C': [1, 10, 100],\n",
    "     'gamma': [0.01, 0.1, 0.25, 0.75]},\n",
    "\n",
    "    #Decision Tree\n",
    "    {'max_depth': [4, 6, 8, 10, None],\n",
    "     'criterion': ['gini', 'entropy']}\n",
    "]\n",
    "\n",
    "MLA = [\n",
    "    RandomForestClassifier(),\n",
    "    KNeighborsClassifier(),\n",
    "    LogisticRegression(),\n",
    "    GaussianNB(),\n",
    "    SVC(),\n",
    "    DecisionTreeClassifier()\n",
    "]"
   ],
   "metadata": {
    "collapsed": false,
    "pycharm": {
     "name": "#%%\n"
    }
   }
  },
  {
   "cell_type": "code",
   "execution_count": 9,
   "outputs": [
    {
     "name": "stdout",
     "output_type": "stream",
     "text": [
      "Total optimization time was 0.34 minutes.\n"
     ]
    }
   ],
   "source": [
    "scoring = pd.DataFrame(columns=['algorithm', 'best_params', 'score_train', 'score_test', 'fit_time'])\n",
    "row = 0\n",
    "\n",
    "start_total = time.perf_counter()\n",
    "for mla, param in zip(MLA, param_grids):\n",
    "    gscv = GridSearchCV(mla, param, cv = cv_split, return_train_score=True, n_jobs=4)\n",
    "    gscv.fit(X,y)\n",
    "\n",
    "    best_index = gscv.best_index_\n",
    "    scoring.loc[row, 'algorithm'] = gscv.best_estimator_.__class__.__name__\n",
    "    scoring.loc[row, 'best_params'] = str(gscv.best_params_)\n",
    "    scoring.loc[row, 'score_train'] = gscv.cv_results_['mean_train_score'][best_index]\n",
    "    scoring.loc[row, 'score_test'] = gscv.cv_results_['mean_test_score'][best_index]\n",
    "    scoring.loc[row, 'fit_time'] = gscv.cv_results_['mean_fit_time'][best_index]\n",
    "    row+=1\n",
    "\n",
    "run_total = time.perf_counter() - start_total\n",
    "print('Total optimization time was {:.2f} minutes.'.format(run_total/60))"
   ],
   "metadata": {
    "collapsed": false,
    "pycharm": {
     "name": "#%%\n"
    }
   }
  },
  {
   "cell_type": "code",
   "execution_count": 10,
   "outputs": [
    {
     "data": {
      "text/plain": "                algorithm                                  best_params  \\\n4                     SVC                    {'C': 100, 'gamma': 0.75}   \n0  RandomForestClassifier    {'criterion': 'gini', 'n_estimators': 50}   \n5  DecisionTreeClassifier  {'criterion': 'entropy', 'max_depth': None}   \n1    KNeighborsClassifier                           {'n_neighbors': 7}   \n2      LogisticRegression                      {'solver': 'newton-cg'}   \n3              GaussianNB                                           {}   \n\n  score_train score_test  fit_time  \n4    0.992292   0.982719  0.081382  \n0         1.0   0.979954  0.144213  \n5         1.0   0.958065   0.00738  \n1    0.966733   0.952535   0.00359  \n2    0.938933   0.941014   0.09754  \n3    0.874901   0.885023   0.00359  ",
      "text/html": "<div>\n<style scoped>\n    .dataframe tbody tr th:only-of-type {\n        vertical-align: middle;\n    }\n\n    .dataframe tbody tr th {\n        vertical-align: top;\n    }\n\n    .dataframe thead th {\n        text-align: right;\n    }\n</style>\n<table border=\"1\" class=\"dataframe\">\n  <thead>\n    <tr style=\"text-align: right;\">\n      <th></th>\n      <th>algorithm</th>\n      <th>best_params</th>\n      <th>score_train</th>\n      <th>score_test</th>\n      <th>fit_time</th>\n    </tr>\n  </thead>\n  <tbody>\n    <tr>\n      <th>4</th>\n      <td>SVC</td>\n      <td>{'C': 100, 'gamma': 0.75}</td>\n      <td>0.992292</td>\n      <td>0.982719</td>\n      <td>0.081382</td>\n    </tr>\n    <tr>\n      <th>0</th>\n      <td>RandomForestClassifier</td>\n      <td>{'criterion': 'gini', 'n_estimators': 50}</td>\n      <td>1.0</td>\n      <td>0.979954</td>\n      <td>0.144213</td>\n    </tr>\n    <tr>\n      <th>5</th>\n      <td>DecisionTreeClassifier</td>\n      <td>{'criterion': 'entropy', 'max_depth': None}</td>\n      <td>1.0</td>\n      <td>0.958065</td>\n      <td>0.00738</td>\n    </tr>\n    <tr>\n      <th>1</th>\n      <td>KNeighborsClassifier</td>\n      <td>{'n_neighbors': 7}</td>\n      <td>0.966733</td>\n      <td>0.952535</td>\n      <td>0.00359</td>\n    </tr>\n    <tr>\n      <th>2</th>\n      <td>LogisticRegression</td>\n      <td>{'solver': 'newton-cg'}</td>\n      <td>0.938933</td>\n      <td>0.941014</td>\n      <td>0.09754</td>\n    </tr>\n    <tr>\n      <th>3</th>\n      <td>GaussianNB</td>\n      <td>{}</td>\n      <td>0.874901</td>\n      <td>0.885023</td>\n      <td>0.00359</td>\n    </tr>\n  </tbody>\n</table>\n</div>"
     },
     "execution_count": 10,
     "metadata": {},
     "output_type": "execute_result"
    }
   ],
   "source": [
    "scoring.sort_values(by = 'score_test', ascending=False)"
   ],
   "metadata": {
    "collapsed": false,
    "pycharm": {
     "name": "#%%\n"
    }
   }
  },
  {
   "cell_type": "markdown",
   "source": [
    "We can see, the SCV model is giving the best score, nearly 100%, also the fit time is quite low."
   ],
   "metadata": {
    "collapsed": false,
    "pycharm": {
     "name": "#%% md\n"
    }
   }
  },
  {
   "cell_type": "markdown",
   "source": [
    "## Evaluate model"
   ],
   "metadata": {
    "collapsed": false,
    "pycharm": {
     "name": "#%% md\n"
    }
   }
  },
  {
   "cell_type": "code",
   "execution_count": 11,
   "outputs": [
    {
     "name": "stdout",
     "output_type": "stream",
     "text": [
      "Classification report:\n",
      "              precision    recall  f1-score   support\n",
      "\n",
      "           0       0.97      0.99      0.98       147\n",
      "           1       0.95      0.99      0.97       181\n",
      "           2       0.99      0.99      0.99       271\n",
      "           3       0.98      0.89      0.93        55\n",
      "           4       0.99      0.97      0.98       214\n",
      "\n",
      "    accuracy                           0.98       868\n",
      "   macro avg       0.98      0.96      0.97       868\n",
      "weighted avg       0.98      0.98      0.98       868\n",
      "\n"
     ]
    }
   ],
   "source": [
    "#Create best model\n",
    "best_model = SVC(C=100, gamma=0.25)\n",
    "best_model.fit(X_train,y_train)\n",
    "y_pred = best_model.predict(X_test)\n",
    "#Print classification report\n",
    "print(\"Classification report:\\n\" + classification_report(y_test, y_pred))"
   ],
   "metadata": {
    "collapsed": false,
    "pycharm": {
     "name": "#%%\n"
    }
   }
  },
  {
   "cell_type": "markdown",
   "source": [
    "# Create pipeline"
   ],
   "metadata": {
    "collapsed": false,
    "pycharm": {
     "name": "#%% md\n"
    }
   }
  },
  {
   "cell_type": "code",
   "execution_count": 12,
   "outputs": [],
   "source": [
    "pipeline = Pipeline(steps=[\n",
    "                ('scaler', RobustScaler()),\n",
    "                ('clf', SVC(C=100, gamma=0.25))\n",
    "                           ])"
   ],
   "metadata": {
    "collapsed": false,
    "pycharm": {
     "name": "#%%\n"
    }
   }
  },
  {
   "cell_type": "code",
   "execution_count": 13,
   "outputs": [
    {
     "data": {
      "text/plain": "Pipeline(steps=[('scaler', RobustScaler()), ('clf', SVC(C=100, gamma=0.25))])"
     },
     "execution_count": 13,
     "metadata": {},
     "output_type": "execute_result"
    }
   ],
   "source": [
    "X = df.copy()\n",
    "y = X.pop('cluster')\n",
    "pipeline.fit(X, y)"
   ],
   "metadata": {
    "collapsed": false,
    "pycharm": {
     "name": "#%%\n"
    }
   }
  },
  {
   "cell_type": "code",
   "execution_count": 14,
   "outputs": [
    {
     "name": "stdout",
     "output_type": "stream",
     "text": [
      "Classification report:\n",
      "              precision    recall  f1-score   support\n",
      "\n",
      "           0       0.99      0.99      0.99       775\n",
      "           1       0.99      0.99      0.99       933\n",
      "           2       0.99      1.00      0.99      1269\n",
      "           3       0.99      0.96      0.97       278\n",
      "           4       0.99      0.98      0.99      1083\n",
      "\n",
      "    accuracy                           0.99      4338\n",
      "   macro avg       0.99      0.98      0.99      4338\n",
      "weighted avg       0.99      0.99      0.99      4338\n",
      "\n"
     ]
    }
   ],
   "source": [
    "y_pred = pipeline.predict(X)\n",
    "#Print classification report\n",
    "print(\"Classification report:\\n\" + classification_report(y, y_pred))"
   ],
   "metadata": {
    "collapsed": false,
    "pycharm": {
     "name": "#%%\n"
    }
   }
  },
  {
   "cell_type": "code",
   "execution_count": 15,
   "outputs": [],
   "source": [
    "#Save pipeline\n",
    "import pickle\n",
    "\n",
    "pickle.dump(pipeline, open('model/classification_pipeline.pkl', 'wb'))"
   ],
   "metadata": {
    "collapsed": false,
    "pycharm": {
     "name": "#%%\n"
    }
   }
  },
  {
   "cell_type": "code",
   "execution_count": 16,
   "outputs": [
    {
     "data": {
      "text/plain": "array([4, 1, 4, 0, 4], dtype=int64)"
     },
     "execution_count": 16,
     "metadata": {},
     "output_type": "execute_result"
    }
   ],
   "source": [
    "pipeline.predict(X.iloc[:5])"
   ],
   "metadata": {
    "collapsed": false,
    "pycharm": {
     "name": "#%%\n"
    }
   }
  },
  {
   "cell_type": "code",
   "execution_count": 17,
   "outputs": [
    {
     "data": {
      "text/plain": "   recency  frequency  monetary\n0       54          2    899.69\n1       22          4   2709.12\n2       30          5    727.74\n3       18          1     52.20\n4      180          3    483.25",
      "text/html": "<div>\n<style scoped>\n    .dataframe tbody tr th:only-of-type {\n        vertical-align: middle;\n    }\n\n    .dataframe tbody tr th {\n        vertical-align: top;\n    }\n\n    .dataframe thead th {\n        text-align: right;\n    }\n</style>\n<table border=\"1\" class=\"dataframe\">\n  <thead>\n    <tr style=\"text-align: right;\">\n      <th></th>\n      <th>recency</th>\n      <th>frequency</th>\n      <th>monetary</th>\n    </tr>\n  </thead>\n  <tbody>\n    <tr>\n      <th>0</th>\n      <td>54</td>\n      <td>2</td>\n      <td>899.69</td>\n    </tr>\n    <tr>\n      <th>1</th>\n      <td>22</td>\n      <td>4</td>\n      <td>2709.12</td>\n    </tr>\n    <tr>\n      <th>2</th>\n      <td>30</td>\n      <td>5</td>\n      <td>727.74</td>\n    </tr>\n    <tr>\n      <th>3</th>\n      <td>18</td>\n      <td>1</td>\n      <td>52.20</td>\n    </tr>\n    <tr>\n      <th>4</th>\n      <td>180</td>\n      <td>3</td>\n      <td>483.25</td>\n    </tr>\n  </tbody>\n</table>\n</div>"
     },
     "execution_count": 17,
     "metadata": {},
     "output_type": "execute_result"
    }
   ],
   "source": [
    "test = X.iloc[:5]\n",
    "test"
   ],
   "metadata": {
    "collapsed": false,
    "pycharm": {
     "name": "#%%\n"
    }
   }
  },
  {
   "cell_type": "code",
   "execution_count": 18,
   "outputs": [
    {
     "name": "stderr",
     "output_type": "stream",
     "text": [
      "C:\\Users\\PC\\anaconda3\\envs\\dstn\\lib\\site-packages\\sklearn\\base.py:446: UserWarning: X does not have valid feature names, but RobustScaler was fitted with feature names\n",
      "  \"X does not have valid feature names, but\"\n"
     ]
    },
    {
     "data": {
      "text/plain": "array([3], dtype=int64)"
     },
     "execution_count": 18,
     "metadata": {},
     "output_type": "execute_result"
    }
   ],
   "source": [
    "pipeline.predict([[20, 12, 15000]])"
   ],
   "metadata": {
    "collapsed": false,
    "pycharm": {
     "name": "#%%\n"
    }
   }
  },
  {
   "cell_type": "code",
   "execution_count": 18,
   "outputs": [],
   "source": [],
   "metadata": {
    "collapsed": false,
    "pycharm": {
     "name": "#%%\n"
    }
   }
  }
 ],
 "metadata": {
  "kernelspec": {
   "display_name": "Python 3",
   "language": "python",
   "name": "python3"
  },
  "language_info": {
   "codemirror_mode": {
    "name": "ipython",
    "version": 2
   },
   "file_extension": ".py",
   "mimetype": "text/x-python",
   "name": "python",
   "nbconvert_exporter": "python",
   "pygments_lexer": "ipython2",
   "version": "2.7.6"
  }
 },
 "nbformat": 4,
 "nbformat_minor": 0
}